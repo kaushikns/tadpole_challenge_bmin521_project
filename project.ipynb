{
 "cells": [
  {
   "cell_type": "code",
   "execution_count": 1,
   "metadata": {
    "colab": {
     "base_uri": "https://localhost:8080/"
    },
    "executionInfo": {
     "elapsed": 3452,
     "status": "ok",
     "timestamp": 1607577715291,
     "user": {
      "displayName": "Kaushik Shankar",
      "photoUrl": "https://lh3.googleusercontent.com/a-/AOh14Gi_LoBpSUHecZtU36FAsI8IeWQWykgWZrozxcm1Tg=s64",
      "userId": "05488092884112595586"
     },
     "user_tz": 300
    },
    "id": "k3gSrBVog-dd",
    "outputId": "6d4cf473-8ae4-49b9-81f0-1c1981604eb0"
   },
   "outputs": [
    {
     "data": {
      "text/plain": [
       "<torch._C.Generator at 0x7f21313d2b28>"
      ]
     },
     "execution_count": 1,
     "metadata": {
      "tags": []
     },
     "output_type": "execute_result"
    }
   ],
   "source": [
    "import numpy as np\n",
    "import matplotlib.pyplot as plt\n",
    "from matplotlib.colors import ListedColormap\n",
    "import random\n",
    "import pandas as pd\n",
    "import torch\n",
    "import torch.nn as nn\n",
    "from torch.autograd import Variable\n",
    "import time\n",
    "from datetime import datetime\n",
    "from dateutil.relativedelta import relativedelta\n",
    "from scipy.interpolate import interp1d\n",
    "import scipy.io as io\n",
    "np.random.seed(7)\n",
    "torch.manual_seed(7)"
   ]
  },
  {
   "cell_type": "code",
   "execution_count": 2,
   "metadata": {
    "colab": {
     "base_uri": "https://localhost:8080/"
    },
    "executionInfo": {
     "elapsed": 21174,
     "status": "ok",
     "timestamp": 1607577740418,
     "user": {
      "displayName": "Kaushik Shankar",
      "photoUrl": "https://lh3.googleusercontent.com/a-/AOh14Gi_LoBpSUHecZtU36FAsI8IeWQWykgWZrozxcm1Tg=s64",
      "userId": "05488092884112595586"
     },
     "user_tz": 300
    },
    "id": "RWSJpsyKqHjH",
    "outputId": "78efbb97-4e1f-4276-bbc8-b0fb0ea1805b"
   },
   "outputs": [
    {
     "name": "stdout",
     "output_type": "stream",
     "text": [
      "Mounted at /content/drive\n"
     ]
    }
   ],
   "source": [
    "from google.colab import drive\n",
    "drive.mount('/content/drive')"
   ]
  },
  {
   "cell_type": "code",
   "execution_count": 3,
   "metadata": {
    "executionInfo": {
     "elapsed": 502,
     "status": "ok",
     "timestamp": 1607577742976,
     "user": {
      "displayName": "Kaushik Shankar",
      "photoUrl": "https://lh3.googleusercontent.com/a-/AOh14Gi_LoBpSUHecZtU36FAsI8IeWQWykgWZrozxcm1Tg=s64",
      "userId": "05488092884112595586"
     },
     "user_tz": 300
    },
    "id": "xrGiGICTg-dg"
   },
   "outputs": [],
   "source": [
    "if torch.cuda.is_available() == True:\n",
    "    dtype = torch.cuda.FloatTensor\n",
    "    dtype_long = torch.cuda.LongTensor\n",
    "else:\n",
    "    dtype = torch.FloatTensor\n",
    "    dtype_long = torch.LongTensor\n",
    "    \n",
    "torch.set_default_tensor_type(dtype)"
   ]
  },
  {
   "cell_type": "code",
   "execution_count": 4,
   "metadata": {
    "executionInfo": {
     "elapsed": 401,
     "status": "ok",
     "timestamp": 1607577757772,
     "user": {
      "displayName": "Kaushik Shankar",
      "photoUrl": "https://lh3.googleusercontent.com/a-/AOh14Gi_LoBpSUHecZtU36FAsI8IeWQWykgWZrozxcm1Tg=s64",
      "userId": "05488092884112595586"
     },
     "user_tz": 300
    },
    "id": "vpD6Waf_g-dg"
   },
   "outputs": [],
   "source": [
    "features = ['Hippocampus', 'WholeBrain', 'Entorhinal', 'MidTemp', 'CDRSB', 'ADAS11', 'ADAS13', 'MMSE', \\\n",
    "            'FAQ','RAVLT_immediate', 'RAVLT_learning', 'RAVLT_forgetting', 'ICV', 'Ventricles', 'DX']\n",
    "descriptors = ['RID','Month_bl']\n",
    "\n",
    "features_eff = features + descriptors + ['EXAMDATE']"
   ]
  },
  {
   "cell_type": "code",
   "execution_count": 5,
   "metadata": {
    "executionInfo": {
     "elapsed": 343,
     "status": "ok",
     "timestamp": 1607577778225,
     "user": {
      "displayName": "Kaushik Shankar",
      "photoUrl": "https://lh3.googleusercontent.com/a-/AOh14Gi_LoBpSUHecZtU36FAsI8IeWQWykgWZrozxcm1Tg=s64",
      "userId": "05488092884112595586"
     },
     "user_tz": 300
    },
    "id": "gBkLOnIyg-dg"
   },
   "outputs": [],
   "source": [
    "def Diagnosis_conv(value):\n",
    "    #Convert diagnosis from str to float\n",
    "    if value == 'CN':\n",
    "        return 0.\n",
    "    if value == 'MCI':\n",
    "        return 1.\n",
    "    if value == 'AD':\n",
    "        return 2.\n",
    "    return float('NaN')\n",
    "\n",
    "\n",
    "def DX_conv(value):\n",
    "    #Convert diagnosis change from str to float\n",
    "    if isinstance(value, str):\n",
    "        if value.endswith('Dementia'):\n",
    "            return 2.\n",
    "        if value.endswith('MCI'):\n",
    "            return 1.\n",
    "        if value.endswith('NL'):\n",
    "            return 0.\n",
    "\n",
    "    return float('NaN')\n",
    "\n",
    "def str2date(string):\n",
    "    #Convert str to datetime object \n",
    "    return datetime.strptime(string, '%m/%d/%y')\n",
    "\n",
    "# If there are features with non-numeric values, convert them to numerical values\n",
    "CONVERTERS = {\n",
    "    'CognitiveAssessmentDate': str2date,\n",
    "    'ScanDate': str2date,\n",
    "    'Forecast Date': str2date,\n",
    "    'EXAMDATE': str2date,\n",
    "    'Diagnosis': Diagnosis_conv,\n",
    "    'DX': DX_conv,\n",
    "    'DX_bl' : Diagnosis_conv\n",
    "}"
   ]
  },
  {
   "cell_type": "code",
   "execution_count": 6,
   "metadata": {
    "executionInfo": {
     "elapsed": 7386,
     "status": "ok",
     "timestamp": 1607577788709,
     "user": {
      "displayName": "Kaushik Shankar",
      "photoUrl": "https://lh3.googleusercontent.com/a-/AOh14Gi_LoBpSUHecZtU36FAsI8IeWQWykgWZrozxcm1Tg=s64",
      "userId": "05488092884112595586"
     },
     "user_tz": 300
    },
    "id": "NIPiM7Eug-dg"
   },
   "outputs": [],
   "source": [
    "csv_path = '/content/drive/My Drive/bmin521/TADPOLE_D1_D2.csv'\n",
    "data = pd.read_csv(csv_path, converters=CONVERTERS)\n",
    "data = data[features_eff]"
   ]
  },
  {
   "cell_type": "code",
   "execution_count": 7,
   "metadata": {
    "executionInfo": {
     "elapsed": 367,
     "status": "ok",
     "timestamp": 1607577791502,
     "user": {
      "displayName": "Kaushik Shankar",
      "photoUrl": "https://lh3.googleusercontent.com/a-/AOh14Gi_LoBpSUHecZtU36FAsI8IeWQWykgWZrozxcm1Tg=s64",
      "userId": "05488092884112595586"
     },
     "user_tz": 300
    },
    "id": "_2cf3KH0g-dg"
   },
   "outputs": [],
   "source": [
    "defaults = {}\n",
    "stddevs = {}\n",
    "for f in features:\n",
    "    vec = data[f]\n",
    "    vec = vec[np.logical_not(np.isnan(vec))]\n",
    "    defaults[f] = np.average(vec)\n",
    "    stddevs[f] = np.std(vec)"
   ]
  },
  {
   "cell_type": "code",
   "execution_count": 8,
   "metadata": {
    "colab": {
     "base_uri": "https://localhost:8080/"
    },
    "executionInfo": {
     "elapsed": 347,
     "status": "ok",
     "timestamp": 1607577793801,
     "user": {
      "displayName": "Kaushik Shankar",
      "photoUrl": "https://lh3.googleusercontent.com/a-/AOh14Gi_LoBpSUHecZtU36FAsI8IeWQWykgWZrozxcm1Tg=s64",
      "userId": "05488092884112595586"
     },
     "user_tz": 300
    },
    "id": "p10CzURwg-dg",
    "outputId": "ba4e51a3-b339-4068-c54d-9d803f426ba8"
   },
   "outputs": [
    {
     "name": "stdout",
     "output_type": "stream",
     "text": [
      "{'Hippocampus': 6681.723757718318, 'WholeBrain': 1011816.2657042529, 'Entorhinal': 3444.7188127995055, 'MidTemp': 19203.2603184418, 'CDRSB': 2.171426977574473, 'ADAS11': 11.394676767676769, 'ADAS13': 17.513888259292838, 'MMSE': 26.592252575011194, 'FAQ': 5.593062041360907, 'RAVLT_immediate': 34.480353300871926, 'RAVLT_learning': 4.025025478428264, 'RAVLT_forgetting': 4.233844406587166, 'ICV': 1534110.7214741604, 'Ventricles': 42147.086769644055, 'DX': 0.9283468104222821}\n",
      "{'Hippocampus': 1239.8611789261104, 'WholeBrain': 111953.35659350622, 'Entorhinal': 811.7092204950306, 'MidTemp': 3137.912561466727, 'CDRSB': 2.80995251591356, 'ADAS11': 8.6322547681062, 'ADAS13': 11.69690529415005, 'MMSE': 3.9482629221972667, 'FAQ': 7.920388615650043, 'RAVLT_immediate': 13.610872200834704, 'RAVLT_learning': 2.8148117016161254, 'RAVLT_forgetting': 2.526082326702057, 'ICV': 166269.78186514266, 'Ventricles': 23269.89780763909, 'DX': 0.7347036479102834}\n"
     ]
    }
   ],
   "source": [
    "print(defaults)\n",
    "print(stddevs)"
   ]
  },
  {
   "cell_type": "code",
   "execution_count": 9,
   "metadata": {
    "colab": {
     "base_uri": "https://localhost:8080/",
     "height": 317
    },
    "executionInfo": {
     "elapsed": 362,
     "status": "ok",
     "timestamp": 1607577797255,
     "user": {
      "displayName": "Kaushik Shankar",
      "photoUrl": "https://lh3.googleusercontent.com/a-/AOh14Gi_LoBpSUHecZtU36FAsI8IeWQWykgWZrozxcm1Tg=s64",
      "userId": "05488092884112595586"
     },
     "user_tz": 300
    },
    "id": "MByFBAYCg-dh",
    "outputId": "af097d0b-afa0-458b-b5d1-4855b0936499"
   },
   "outputs": [
    {
     "data": {
      "text/html": [
       "<div>\n",
       "<style scoped>\n",
       "    .dataframe tbody tr th:only-of-type {\n",
       "        vertical-align: middle;\n",
       "    }\n",
       "\n",
       "    .dataframe tbody tr th {\n",
       "        vertical-align: top;\n",
       "    }\n",
       "\n",
       "    .dataframe thead th {\n",
       "        text-align: right;\n",
       "    }\n",
       "</style>\n",
       "<table border=\"1\" class=\"dataframe\">\n",
       "  <thead>\n",
       "    <tr style=\"text-align: right;\">\n",
       "      <th></th>\n",
       "      <th>Hippocampus</th>\n",
       "      <th>WholeBrain</th>\n",
       "      <th>Entorhinal</th>\n",
       "      <th>MidTemp</th>\n",
       "      <th>CDRSB</th>\n",
       "      <th>ADAS11</th>\n",
       "      <th>ADAS13</th>\n",
       "      <th>MMSE</th>\n",
       "      <th>FAQ</th>\n",
       "      <th>RAVLT_immediate</th>\n",
       "      <th>RAVLT_learning</th>\n",
       "      <th>RAVLT_forgetting</th>\n",
       "      <th>ICV</th>\n",
       "      <th>Ventricles</th>\n",
       "      <th>DX</th>\n",
       "      <th>RID</th>\n",
       "      <th>Month_bl</th>\n",
       "    </tr>\n",
       "  </thead>\n",
       "  <tbody>\n",
       "    <tr>\n",
       "      <th>count</th>\n",
       "      <td>6802.000000</td>\n",
       "      <td>7.689000e+03</td>\n",
       "      <td>6469.000000</td>\n",
       "      <td>6469.000000</td>\n",
       "      <td>8963.000000</td>\n",
       "      <td>8910.000000</td>\n",
       "      <td>8824.000000</td>\n",
       "      <td>8932.000000</td>\n",
       "      <td>8994.000000</td>\n",
       "      <td>8831.000000</td>\n",
       "      <td>8831.000000</td>\n",
       "      <td>8805.000000</td>\n",
       "      <td>7.953000e+03</td>\n",
       "      <td>7445.000000</td>\n",
       "      <td>8904.000000</td>\n",
       "      <td>12741.000000</td>\n",
       "      <td>12741.000000</td>\n",
       "    </tr>\n",
       "    <tr>\n",
       "      <th>mean</th>\n",
       "      <td>6681.723758</td>\n",
       "      <td>1.011816e+06</td>\n",
       "      <td>3444.718813</td>\n",
       "      <td>19203.260318</td>\n",
       "      <td>2.171427</td>\n",
       "      <td>11.394677</td>\n",
       "      <td>17.513888</td>\n",
       "      <td>26.592253</td>\n",
       "      <td>5.593062</td>\n",
       "      <td>34.480353</td>\n",
       "      <td>4.025025</td>\n",
       "      <td>4.233844</td>\n",
       "      <td>1.534111e+06</td>\n",
       "      <td>42147.086770</td>\n",
       "      <td>0.928347</td>\n",
       "      <td>2240.325720</td>\n",
       "      <td>26.126760</td>\n",
       "    </tr>\n",
       "    <tr>\n",
       "      <th>std</th>\n",
       "      <td>1239.952328</td>\n",
       "      <td>1.119606e+05</td>\n",
       "      <td>811.771966</td>\n",
       "      <td>3138.155124</td>\n",
       "      <td>2.810109</td>\n",
       "      <td>8.632739</td>\n",
       "      <td>11.697568</td>\n",
       "      <td>3.948484</td>\n",
       "      <td>7.920829</td>\n",
       "      <td>13.611643</td>\n",
       "      <td>2.814971</td>\n",
       "      <td>2.526226</td>\n",
       "      <td>1.662802e+05</td>\n",
       "      <td>23271.460752</td>\n",
       "      <td>0.734745</td>\n",
       "      <td>1855.269911</td>\n",
       "      <td>26.194216</td>\n",
       "    </tr>\n",
       "    <tr>\n",
       "      <th>min</th>\n",
       "      <td>2219.000000</td>\n",
       "      <td>6.490910e+05</td>\n",
       "      <td>1041.000000</td>\n",
       "      <td>8044.000000</td>\n",
       "      <td>0.000000</td>\n",
       "      <td>0.000000</td>\n",
       "      <td>0.000000</td>\n",
       "      <td>0.000000</td>\n",
       "      <td>0.000000</td>\n",
       "      <td>0.000000</td>\n",
       "      <td>-5.000000</td>\n",
       "      <td>-12.000000</td>\n",
       "      <td>2.918840e+02</td>\n",
       "      <td>5650.000000</td>\n",
       "      <td>0.000000</td>\n",
       "      <td>2.000000</td>\n",
       "      <td>0.000000</td>\n",
       "    </tr>\n",
       "    <tr>\n",
       "      <th>25%</th>\n",
       "      <td>5830.000000</td>\n",
       "      <td>9.337950e+05</td>\n",
       "      <td>2905.000000</td>\n",
       "      <td>17183.000000</td>\n",
       "      <td>0.000000</td>\n",
       "      <td>5.330000</td>\n",
       "      <td>9.000000</td>\n",
       "      <td>25.000000</td>\n",
       "      <td>0.000000</td>\n",
       "      <td>25.000000</td>\n",
       "      <td>2.000000</td>\n",
       "      <td>3.000000</td>\n",
       "      <td>1.417170e+06</td>\n",
       "      <td>25127.000000</td>\n",
       "      <td>0.000000</td>\n",
       "      <td>618.000000</td>\n",
       "      <td>5.967210</td>\n",
       "    </tr>\n",
       "    <tr>\n",
       "      <th>50%</th>\n",
       "      <td>6759.500000</td>\n",
       "      <td>1.009330e+06</td>\n",
       "      <td>3482.000000</td>\n",
       "      <td>19240.000000</td>\n",
       "      <td>1.000000</td>\n",
       "      <td>9.000000</td>\n",
       "      <td>15.000000</td>\n",
       "      <td>28.000000</td>\n",
       "      <td>1.000000</td>\n",
       "      <td>33.000000</td>\n",
       "      <td>4.000000</td>\n",
       "      <td>4.000000</td>\n",
       "      <td>1.522370e+06</td>\n",
       "      <td>37434.000000</td>\n",
       "      <td>1.000000</td>\n",
       "      <td>1280.000000</td>\n",
       "      <td>18.163900</td>\n",
       "    </tr>\n",
       "    <tr>\n",
       "      <th>75%</th>\n",
       "      <td>7583.000000</td>\n",
       "      <td>1.088250e+06</td>\n",
       "      <td>4013.000000</td>\n",
       "      <td>21397.000000</td>\n",
       "      <td>3.000000</td>\n",
       "      <td>15.000000</td>\n",
       "      <td>24.000000</td>\n",
       "      <td>29.000000</td>\n",
       "      <td>9.000000</td>\n",
       "      <td>44.000000</td>\n",
       "      <td>6.000000</td>\n",
       "      <td>6.000000</td>\n",
       "      <td>1.641200e+06</td>\n",
       "      <td>53433.000000</td>\n",
       "      <td>1.000000</td>\n",
       "      <td>4328.000000</td>\n",
       "      <td>36.295100</td>\n",
       "    </tr>\n",
       "    <tr>\n",
       "      <th>max</th>\n",
       "      <td>11207.000000</td>\n",
       "      <td>1.486040e+06</td>\n",
       "      <td>6711.000000</td>\n",
       "      <td>32189.000000</td>\n",
       "      <td>18.000000</td>\n",
       "      <td>70.000000</td>\n",
       "      <td>85.000000</td>\n",
       "      <td>30.000000</td>\n",
       "      <td>30.000000</td>\n",
       "      <td>75.000000</td>\n",
       "      <td>14.000000</td>\n",
       "      <td>15.000000</td>\n",
       "      <td>2.110290e+06</td>\n",
       "      <td>162729.000000</td>\n",
       "      <td>2.000000</td>\n",
       "      <td>5296.000000</td>\n",
       "      <td>128.754000</td>\n",
       "    </tr>\n",
       "  </tbody>\n",
       "</table>\n",
       "</div>"
      ],
      "text/plain": [
       "        Hippocampus    WholeBrain  ...           RID      Month_bl\n",
       "count   6802.000000  7.689000e+03  ...  12741.000000  12741.000000\n",
       "mean    6681.723758  1.011816e+06  ...   2240.325720     26.126760\n",
       "std     1239.952328  1.119606e+05  ...   1855.269911     26.194216\n",
       "min     2219.000000  6.490910e+05  ...      2.000000      0.000000\n",
       "25%     5830.000000  9.337950e+05  ...    618.000000      5.967210\n",
       "50%     6759.500000  1.009330e+06  ...   1280.000000     18.163900\n",
       "75%     7583.000000  1.088250e+06  ...   4328.000000     36.295100\n",
       "max    11207.000000  1.486040e+06  ...   5296.000000    128.754000\n",
       "\n",
       "[8 rows x 17 columns]"
      ]
     },
     "execution_count": 9,
     "metadata": {
      "tags": []
     },
     "output_type": "execute_result"
    }
   ],
   "source": [
    "data.describe()"
   ]
  },
  {
   "cell_type": "code",
   "execution_count": 10,
   "metadata": {
    "executionInfo": {
     "elapsed": 401,
     "status": "ok",
     "timestamp": 1607577884252,
     "user": {
      "displayName": "Kaushik Shankar",
      "photoUrl": "https://lh3.googleusercontent.com/a-/AOh14Gi_LoBpSUHecZtU36FAsI8IeWQWykgWZrozxcm1Tg=s64",
      "userId": "05488092884112595586"
     },
     "user_tz": 300
    },
    "id": "ITYbUV1Wg-dh"
   },
   "outputs": [],
   "source": [
    "def has_data_mask(frame):\n",
    "    return ~frame.isnull().apply(np.all, axis=1)\n",
    "\n",
    "def get_data_dict(frame, features):\n",
    "    ret = {}\n",
    "    frame_ = frame.copy()\n",
    "    frame_['Month_bl'] = frame_['Month_bl'].round().astype(int)\n",
    "    for subj in np.unique(frame_.RID):\n",
    "        subj_data = frame_[frame_.RID == subj].sort_values('Month_bl')\n",
    "        subj_data = subj_data[has_data_mask(subj_data[features])]\n",
    "\n",
    "        subj_data = subj_data.set_index('Month_bl', drop=True)\n",
    "        ret[subj] = subj_data.drop(['RID'], axis=1)\n",
    "    return ret"
   ]
  },
  {
   "cell_type": "code",
   "execution_count": 11,
   "metadata": {
    "executionInfo": {
     "elapsed": 8460,
     "status": "ok",
     "timestamp": 1607577895362,
     "user": {
      "displayName": "Kaushik Shankar",
      "photoUrl": "https://lh3.googleusercontent.com/a-/AOh14Gi_LoBpSUHecZtU36FAsI8IeWQWykgWZrozxcm1Tg=s64",
      "userId": "05488092884112595586"
     },
     "user_tz": 300
    },
    "id": "YIn3qLo4g-dh"
   },
   "outputs": [],
   "source": [
    "data_ = get_data_dict(data,features)"
   ]
  },
  {
   "cell_type": "code",
   "execution_count": 12,
   "metadata": {
    "colab": {
     "base_uri": "https://localhost:8080/"
    },
    "executionInfo": {
     "elapsed": 12947,
     "status": "ok",
     "timestamp": 1607577947658,
     "user": {
      "displayName": "Kaushik Shankar",
      "photoUrl": "https://lh3.googleusercontent.com/a-/AOh14Gi_LoBpSUHecZtU36FAsI8IeWQWykgWZrozxcm1Tg=s64",
      "userId": "05488092884112595586"
     },
     "user_tz": 300
    },
    "id": "lNngV4F4g-dh",
    "outputId": "b4462d13-28da-4544-f241-5fcb49a93254"
   },
   "outputs": [
    {
     "name": "stderr",
     "output_type": "stream",
     "text": [
      "/usr/local/lib/python3.6/dist-packages/scipy/interpolate/interpolate.py:609: RuntimeWarning: divide by zero encountered in true_divide\n",
      "  slope = (y_hi - y_lo) / (x_hi - x_lo)[:, None]\n",
      "/usr/local/lib/python3.6/dist-packages/scipy/interpolate/interpolate.py:612: RuntimeWarning: invalid value encountered in multiply\n",
      "  y_new = slope*(x_new - x_lo)[:, None] + y_lo\n"
     ]
    }
   ],
   "source": [
    "def valid(time_array, tmax, tmin):\n",
    "    return time_array[(time_array >= tmin) & (time_array <= tmax)]\n",
    "\n",
    "# In order to impute missing data at the first time points for each subject, population averages are used\n",
    "# At other time points where there is missing data, linear interpolation is used to fill these timepoints\n",
    "def impute_data(month_true, val_true, val_default, month_interp, f):\n",
    "    has_data = ~np.isnan(val_true)\n",
    "    valid_x, valid_y = month_true[has_data], val_true[has_data]\n",
    "    interp = np.full(month_interp.shape, np.nan, np.float)\n",
    "    truth = np.full(month_interp.shape, np.nan)\n",
    "    \n",
    "    for i in range(month_true.shape[0]):\n",
    "        month = month_true[i]\n",
    "        interp[month] = val_true[i]\n",
    "        truth[month] = val_true[i]\n",
    "        \n",
    "    # fill first timepoint\n",
    "    interp[0] = valid_y[0] if sum(has_data) else val_default\n",
    "    \n",
    "    if len(valid_y) == 1:\n",
    "        # will be different from previous line when valid_x is not the first tp\n",
    "        interp[np.in1d(month_interp, valid_x[0])] = valid_y[0]\n",
    "    elif len(valid_y) > 1:\n",
    "        interp_fn = interp1d(valid_x, valid_y, kind='linear')\n",
    "        timepoints = valid(month_interp, valid_x[-1],\n",
    "                           valid_x[0]).astype(np.int)\n",
    "        interp[np.in1d(month_interp, timepoints)] = interp_fn(timepoints)\n",
    "        \n",
    "    for j in range(month_interp.shape[0]):\n",
    "        if np.isnan(interp[j]):\n",
    "            interp[j] = val_default\n",
    "            \n",
    "        if f == 'DX':\n",
    "            interp[j] = np.round(interp[j])\n",
    "        else:\n",
    "            interp[j] = (interp[j] - defaults[f])/stddevs[f]\n",
    "    \n",
    "    mask = np.in1d(month_interp, month_true[has_data].astype(np.int))\n",
    "\n",
    "    return interp, mask, truth\n",
    "\n",
    "data_dict = dict()\n",
    "fields = ['Month_bl'] + features\n",
    "for rid, sframe in data_.items():\n",
    "    xin = sframe.index.values\n",
    "    xin = xin - xin[0]\n",
    "    xout = np.arange(xin[-1] - xin[0] + 1)\n",
    "    in_seqs = {'Month_bl': xout}\n",
    "    mk_seqs = {'Month_bl': np.zeros(len(xout), dtype=bool)}\n",
    "    th_seqs = {'Month_bl': np.full(len(xout), np.nan)}\n",
    "    for f in features:\n",
    "        yin = sframe[f].values\n",
    "        in_seqs[f], mk_seqs[f], th_seqs[f] = impute_data(xin, yin, defaults[f], xout, f)\n",
    "    data_dict[rid] = {'input': np.array([in_seqs[f] for f in fields]).T}\n",
    "    data_dict[rid]['mask'] = np.array([mk_seqs[f] for f in fields]).T\n",
    "    data_dict[rid]['truth'] = np.array([th_seqs[f] for f in fields]).T\n",
    "\n",
    "    assert data_dict[rid]['input'].shape == data_dict[rid]['mask'].shape == data_dict[rid]['truth'].shape\n"
   ]
  },
  {
   "cell_type": "code",
   "execution_count": 13,
   "metadata": {
    "executionInfo": {
     "elapsed": 1313,
     "status": "ok",
     "timestamp": 1607577962584,
     "user": {
      "displayName": "Kaushik Shankar",
      "photoUrl": "https://lh3.googleusercontent.com/a-/AOh14Gi_LoBpSUHecZtU36FAsI8IeWQWykgWZrozxcm1Tg=s64",
      "userId": "05488092884112595586"
     },
     "user_tz": 300
    },
    "id": "gfWjf3dOg-dh"
   },
   "outputs": [],
   "source": [
    "class rnn(nn.Module):\n",
    "    def __init__(self, data_dict, input_size, output_size, hidden_size, sigma_u, sigma_f, lr):\n",
    "        super(rnn, self).__init__()\n",
    "        self.data_dict = data_dict\n",
    "        self.input_size = input_size\n",
    "        self.hidden_size = hidden_size\n",
    "        self.output_size = output_size\n",
    "        self.sigma_f = sigma_f\n",
    "        self.sigma_u = sigma_u\n",
    "        \n",
    "        self.get_train_rid()\n",
    "        self.initialize_parameters()\n",
    "        \n",
    "        self.lossfn_class = nn.CrossEntropyLoss(reduction='mean')\n",
    "        self.lossfn_reg = nn.L1Loss(reduction='mean')\n",
    "        self.softmax = nn.Softmax(dim=1)\n",
    "        \n",
    "        self.optimizer = torch.optim.Adam(self.parameters(), lr=lr) \n",
    "        self.training_loss = []\n",
    "\n",
    "    def fwd_pass(self, X):\n",
    "        ntimepts = X.shape[0]\n",
    "        nfeat = X.shape[1]\n",
    "        y = torch.zeros(ntimepts, self.output_size)\n",
    "        y[0,0:nfeat-1] = X[0,0:nfeat-1].clone()\n",
    "        y[0,nfeat-1+int(X[0,nfeat-1].clone())] = 1.\n",
    "        h = torch.zeros(1, self.hidden_size)\n",
    "        for i in range(ntimepts-1):\n",
    "            x1 = torch.zeros(1,self.output_size-3)\n",
    "            x2 = torch.zeros(1,3)\n",
    "            x1[0,0:nfeat-1] = X[i,0:nfeat-1].clone()\n",
    "            x2[0,int(X[i,nfeat-1].clone())] = 1. \n",
    "            xin = torch.cat((x1,x2), dim = 1).clone()\n",
    "            u = self.sigma_u(torch.matmul(xin,self.wx))\n",
    "            f = self.sigma_f(torch.matmul(h,self.wh) + torch.matmul(u, self.wu))\n",
    "            h = f*h + (1-f)*u\n",
    "            yr = torch.matmul(h,self.wr) + xin[0,0:nfeat-1].clone()\n",
    "            yc = self.softmax(torch.matmul(h, self.wc))\n",
    "            y[i+1,:] = torch.cat((yr, yc), dim = 1).clone()\n",
    "        return y\n",
    "        \n",
    "    def get_train_rid(self):\n",
    "        rids = []\n",
    "        for rid, sframe in self.data_dict.items():\n",
    "            rids.append(rid)\n",
    "        random.shuffle(rids)\n",
    "        nsubj = len(rids)\n",
    "        self.rids_train = rids[:int(0.8 * nsubj)]\n",
    "        self.rids_test = rids[int(0.8 * nsubj):]\n",
    "        \n",
    "        \n",
    "    def initialize_parameters(self):    \n",
    "        self.wh = nn.Parameter(torch.Tensor(self.hidden_size, self.hidden_size))\n",
    "        self.wx = nn.Parameter(torch.Tensor(self.input_size, self.hidden_size))\n",
    "        self.wu = nn.Parameter(torch.Tensor(self.hidden_size, self.hidden_size))\n",
    "        self.wr = nn.Parameter(torch.Tensor(self.hidden_size, self.output_size-3))\n",
    "        self.wc = nn.Parameter(torch.Tensor(self.hidden_size, 3))\n",
    "        nn.init.xavier_uniform_(self.wh)\n",
    "        nn.init.xavier_uniform_(self.wx)\n",
    "        nn.init.xavier_uniform_(self.wu)\n",
    "        nn.init.xavier_uniform_(self.wr)\n",
    "        nn.init.xavier_uniform_(self.wc)\n",
    "\n",
    "    def save_parameters(self, path):\n",
    "        io.savemat(path, {'wh':self.wh.cpu().data.numpy(), 'wx':self.wx.cpu().data.numpy(), 'wu':self.wu.cpu().data.numpy(),\\\n",
    "                          'wr':self.wr.cpu().data.numpy(), 'wc':self.wc.cpu().data.numpy()})   \n",
    "        \n",
    "    def load_parameters(self, path):\n",
    "        params = io.loadmat(path)\n",
    "        self.wh = nn.Parameter(torch.from_numpy(params['wh']).type(dtype))\n",
    "        self.wx = nn.Parameter(torch.from_numpy(params['wx']).type(dtype))\n",
    "        self.wu = nn.Parameter(torch.from_numpy(params['wu']).type(dtype))\n",
    "        self.wr = nn.Parameter(torch.from_numpy(params['wr']).type(dtype)) \n",
    "        self.wc = nn.Parameter(torch.from_numpy(params['wc']).type(dtype)) \n",
    "\n",
    "    def modify_lr(self, lr):\n",
    "        self.optimizer = torch.optim.Adam(self.parameters(), lr=lr) \n",
    "    \n",
    "    def predict(self, X, startpt, endpt):\n",
    "        nfeat = X.shape[1]\n",
    "        xin = torch.zeros(1, self.output_size)\n",
    "        y = torch.zeros(1, self.output_size)\n",
    "        y[0,0:nfeat-1] = X[0,0:nfeat-1]\n",
    "        y[0,nfeat-1+int(X[0,nfeat-1])] = 1.\n",
    "        h = torch.zeros(1, self.hidden_size)\n",
    "        for i in range(startpt, endpt):\n",
    "            if i >= (endpt - startpt)/2:\n",
    "                xin = y\n",
    "            else:\n",
    "                x1 = torch.zeros(1,self.output_size-3)\n",
    "                x2 = torch.zeros(1,3)\n",
    "                x1[0,0:nfeat-1] = X[i,0:nfeat-1]\n",
    "                x2[0,int(X[i,nfeat-1])] = 1. \n",
    "                xin = torch.cat((x1,x2), dim = 1)\n",
    "            u = self.sigma_u(torch.matmul(y,self.wx))\n",
    "            f = self.sigma_f(torch.matmul(h,self.wh) + torch.matmul(u, self.wu))\n",
    "            h = f*h + (1-f)*u\n",
    "            yr = torch.matmul(h,self.wr) + xin[0,0:nfeat-1]\n",
    "            yc = self.softmax(torch.matmul(h, self.wc))\n",
    "            y = torch.cat((yr, yc), dim = 1)\n",
    "\n",
    "        _,yclass = torch.max(y[0,nfeat-1:],0)\n",
    "        yclass = yclass.cpu().data.numpy()\n",
    "        yreg = y[0,0:nfeat-1].cpu().data.numpy()\n",
    "        return (yclass, yreg, y[0,nfeat-1:].cpu().data.numpy())\n",
    "\n",
    "    def predict_test(self, X, startpt, endpt):\n",
    "        nfeat = X.shape[1]\n",
    "        xin = torch.zeros(1, self.output_size)\n",
    "        y = torch.zeros(1, self.output_size)\n",
    "        y[0,0:nfeat-1] = X[0,0:nfeat-1]\n",
    "        y[0,nfeat-1+int(X[0,nfeat-1])] = 1.\n",
    "        h = torch.zeros(1, self.hidden_size)\n",
    "        for i in range(endpt):\n",
    "            if i >= startpt:\n",
    "                xin = y\n",
    "            else:\n",
    "                x1 = torch.zeros(1,self.output_size-3)\n",
    "                x2 = torch.zeros(1,3)\n",
    "                x1[0,0:nfeat-1] = X[i,0:nfeat-1]\n",
    "                x2[0,int(X[i,nfeat-1])] = 1. \n",
    "                xin = torch.cat((x1,x2), dim = 1)\n",
    "            u = self.sigma_u(torch.matmul(xin,self.wx))\n",
    "            f = self.sigma_f(torch.matmul(h,self.wh) + torch.matmul(u, self.wu))\n",
    "            h = f*h + (1-f)*u\n",
    "            yr = torch.matmul(h,self.wr)+ xin[0,0:nfeat-1]\n",
    "            yc = self.softmax(torch.matmul(h, self.wc))\n",
    "            y = torch.cat((yr, yc), dim = 1)\n",
    "            \n",
    "        _,yclass = torch.max(y[0,nfeat-1:],0)\n",
    "        yclass = yclass.cpu().data.numpy()\n",
    "        yreg = y[0,0:nfeat-1].cpu().data.numpy()\n",
    "        return (yclass, yreg, y[0,nfeat-1:].cpu().data.numpy())\n",
    "    \n",
    "    def compute_loss(self, X, Y, boolmask_class, boolmask_reg):\n",
    "        nfeat = X.shape[1]\n",
    "        Ypred = self.fwd_pass(X)\n",
    "        Y_class = Y[:,nfeat-1].type(dtype_long)\n",
    "        Ypred_class = Ypred[:,nfeat-1:self.output_size]\n",
    "        Y_reg = Y[:,0:nfeat-1]\n",
    "        Ypred_reg = Ypred[:,0:nfeat-1]\n",
    "        \n",
    "        class_loss = self.lossfn_class(Ypred_class, Y_class)\n",
    "        reg_loss = self.lossfn_reg(Ypred_reg, Y_reg)\n",
    "        loss = class_loss + reg_loss\n",
    "        return loss\n",
    "\n",
    "    def model_train_fb(self, nepochs):\n",
    "        lr_modif = False\n",
    "        for epoch in range(nepochs):\n",
    "            netloss = 0.\n",
    "            self.optimizer.zero_grad()\n",
    "            for rid in self.rids_train:\n",
    "                Y_ = self.data_dict[rid]['input']\n",
    "                X = torch.from_numpy(Y_).type(dtype)\n",
    "                Y = torch.from_numpy(Y_).type(dtype)\n",
    "                boolmask_reg = self.data_dict[rid]['mask'][:,1:X.shape[1]-1]\n",
    "                boolmask_class = self.data_dict[rid]['mask'][:,X.shape[1]-1]\n",
    "                loss = self.compute_loss(X[:,1:],Y[:,1:],boolmask_class, boolmask_reg)\n",
    "                netloss = netloss + loss\n",
    "            netloss = netloss / len(self.rids_train)\n",
    "            netloss.backward()\n",
    "            self.optimizer.step()\n",
    "            self.training_loss.append(netloss.cpu().data.numpy())\n",
    "            print('Loss at epoch', epoch,':',netloss.cpu().data.numpy())\n",
    "                \n",
    "    def model_test_d1d2(self):\n",
    "        yclass_true = []\n",
    "        yreg_true = []\n",
    "        yclass_pred = []\n",
    "        yreg_pred = []\n",
    "        yclass_probs = []\n",
    "        for rid in self.rids_test:\n",
    "            Y_ = self.data_dict[rid]['input']\n",
    "            starttimept = int(Y_[0][0])\n",
    "            X = torch.from_numpy(Y_[:,1:]).type(dtype)\n",
    "            endtimept = int(Y_[Y_.shape[0]-1][0])\n",
    "\n",
    "            for timept in range(starttimept, endtimept):\n",
    "              yclass, yreg, classprobs = self.predict(X, starttimept, timept+1)\n",
    "              classtrue = Y_[timept][Y_.shape[1]-1]\n",
    "              regtrue = Y_[timept][Y_.shape[1]-2]*stddevs['Ventricles'] + defaults['Ventricles']\n",
    "              regtrue = regtrue / (Y_[timept][Y_.shape[1]-3]*stddevs['ICV'] + defaults['ICV'])\n",
    "\n",
    "              if self.data_dict[rid]['mask'][timept][Y_.shape[1]-1]:\n",
    "                yclass_true.append(classtrue)\n",
    "                yclass_pred.append(yclass)\n",
    "                yclass_probs.append(classprobs)\n",
    "\n",
    "              if self.data_dict[rid]['mask'][timept][Y_.shape[1]-2] and self.data_dict[rid]['mask'][timept][Y_.shape[1]-3]:\n",
    "                yreg_true.append(regtrue)\n",
    "                regpred = yreg[Y_.shape[1]-3]*stddevs['Ventricles'] + defaults['Ventricles']\n",
    "                regpred = regpred / (yreg[Y_.shape[1]-4]*stddevs['ICV'] + defaults['ICV'])\n",
    "                yreg_pred.append(regpred)\n",
    "        return yclass_true, yreg_true, yclass_pred, yreg_pred, yclass_probs\n",
    "\n",
    "    def model_test_d4(self, testdata, data_):\n",
    "        def month_between(end, start):\n",
    "            diff = relativedelta(end, start)\n",
    "            months = 12 * diff.years + diff.months\n",
    "            to_next = relativedelta(end + relativedelta(months=1, days=-diff.days),\n",
    "                            end).days\n",
    "            to_prev = diff.days\n",
    "            return months + (to_next < to_prev)\n",
    "        yclass_true = []\n",
    "        yreg_true = []\n",
    "        yclass_pred = []\n",
    "        yreg_pred = []\n",
    "        yclass_probs = []\n",
    "\n",
    "        count = 0\n",
    "        for rid in testdata['RID']:\n",
    "            Y_ = self.data_dict[rid]['input']\n",
    "            X = torch.from_numpy(Y_[:,1:]).type(dtype)\n",
    "            if rid == 4960: # Duplicate entry \n",
    "                startdate = data_[rid]['EXAMDATE'][0]\n",
    "                starttime = int(Y_[0][0])\n",
    "            else:\n",
    "                startdate = data_[rid]['EXAMDATE'][int(Y_[Y_.shape[0]-1][0])]\n",
    "                starttime = int(Y_[Y_.shape[0]-1][0])\n",
    "            enddate = testdata['CognitiveAssessmentDate'][count]\n",
    "            endtime = starttime + month_between(enddate,startdate)\n",
    "            classtrue = testdata['Diagnosis'][count] \n",
    "            regtrue = testdata['Ventricles'][count]\n",
    "            yclass, yreg, classprobs = self.predict_test(X, starttime, endtime)\n",
    "            count = count + 1\n",
    "            if not (np.isnan(classtrue)):\n",
    "                yclass_true.append(classtrue)\n",
    "                yclass_pred.append(yclass)\n",
    "                yclass_probs.append(classprobs)\n",
    "            if not (np.isnan(regtrue)):\n",
    "                yreg_true.append(regtrue)\n",
    "                regpred = yreg[Y_.shape[1]-3]*stddevs['Ventricles'] + defaults['Ventricles']\n",
    "                regpred = regpred / (yreg[Y_.shape[1]-4]*stddevs['ICV'] + defaults['ICV'])\n",
    "                yreg_pred.append(regpred)\n",
    "\n",
    "        return yclass_true, yreg_true, yclass_pred, yreg_pred, yclass_probs"
   ]
  },
  {
   "cell_type": "code",
   "execution_count": 14,
   "metadata": {
    "executionInfo": {
     "elapsed": 345,
     "status": "ok",
     "timestamp": 1607577989268,
     "user": {
      "displayName": "Kaushik Shankar",
      "photoUrl": "https://lh3.googleusercontent.com/a-/AOh14Gi_LoBpSUHecZtU36FAsI8IeWQWykgWZrozxcm1Tg=s64",
      "userId": "05488092884112595586"
     },
     "user_tz": 300
    },
    "id": "ynts38Dfg-dh"
   },
   "outputs": [],
   "source": [
    "nclasses = 3\n",
    "input_size = len(features) + nclasses - 1\n",
    "output_size = len(features) + nclasses - 1\n",
    "hidden_size = 200\n",
    "lr = 0.01\n",
    "activation_u = torch.tanh\n",
    "activation_f = torch.tanh\n",
    "net = rnn(data_dict, input_size, output_size, hidden_size, activation_u, activation_f, lr)"
   ]
  },
  {
   "cell_type": "code",
   "execution_count": null,
   "metadata": {
    "colab": {
     "base_uri": "https://localhost:8080/"
    },
    "executionInfo": {
     "elapsed": 6855589,
     "status": "ok",
     "timestamp": 1607545856278,
     "user": {
      "displayName": "Kaushik Shankar",
      "photoUrl": "https://lh3.googleusercontent.com/a-/AOh14Gi_LoBpSUHecZtU36FAsI8IeWQWykgWZrozxcm1Tg=s64",
      "userId": "05488092884112595586"
     },
     "user_tz": 300
    },
    "id": "0g7XPMANg-dh",
    "outputId": "a3d8d8fd-2cd4-4f17-bcb8-d9c8d1a6f0dc"
   },
   "outputs": [
    {
     "name": "stdout",
     "output_type": "stream",
     "text": [
      "Loss at epoch 0 : 0.5905715\n",
      "Loss at epoch 1 : 0.5907928\n",
      "Loss at epoch 2 : 0.5905669\n",
      "Loss at epoch 3 : 0.59048676\n",
      "Loss at epoch 4 : 0.5905774\n",
      "Loss at epoch 5 : 0.5905544\n",
      "Loss at epoch 6 : 0.5904662\n",
      "Loss at epoch 7 : 0.5904443\n",
      "Loss at epoch 8 : 0.5904825\n",
      "Loss at epoch 9 : 0.5904882\n",
      "Loss at epoch 10 : 0.5904458\n",
      "Loss at epoch 11 : 0.59041137\n",
      "Loss at epoch 12 : 0.59041524\n",
      "Loss at epoch 13 : 0.5904299\n",
      "Loss at epoch 14 : 0.5904197\n",
      "Loss at epoch 15 : 0.5903937\n",
      "Loss at epoch 16 : 0.59037834\n",
      "Loss at epoch 17 : 0.5903812\n",
      "Loss at epoch 18 : 0.5903844\n",
      "Loss at epoch 19 : 0.5903739\n",
      "Loss at epoch 20 : 0.5903565\n",
      "Loss at epoch 21 : 0.5903478\n",
      "Loss at epoch 22 : 0.5903481\n",
      "Loss at epoch 23 : 0.5903465\n",
      "Loss at epoch 24 : 0.5903358\n",
      "Loss at epoch 25 : 0.5903243\n",
      "Loss at epoch 26 : 0.5903196\n",
      "Loss at epoch 27 : 0.5903182\n",
      "Loss at epoch 28 : 0.5903118\n",
      "Loss at epoch 29 : 0.5903023\n",
      "Loss at epoch 30 : 0.5902945\n",
      "Loss at epoch 31 : 0.59029126\n",
      "Loss at epoch 32 : 0.590287\n",
      "Loss at epoch 33 : 0.5902801\n",
      "Loss at epoch 34 : 0.5902718\n",
      "Loss at epoch 35 : 0.59026724\n",
      "Loss at epoch 36 : 0.59026337\n",
      "Loss at epoch 37 : 0.59025735\n",
      "Loss at epoch 38 : 0.5902499\n",
      "Loss at epoch 39 : 0.59024405\n",
      "Loss at epoch 40 : 0.5902401\n",
      "Loss at epoch 41 : 0.5902342\n",
      "Loss at epoch 42 : 0.5902276\n",
      "Loss at epoch 43 : 0.5902219\n",
      "Loss at epoch 44 : 0.590217\n",
      "Loss at epoch 45 : 0.5902116\n",
      "Loss at epoch 46 : 0.5902051\n",
      "Loss at epoch 47 : 0.5901997\n",
      "Loss at epoch 48 : 0.590195\n",
      "Loss at epoch 49 : 0.5901888\n",
      "Loss at epoch 50 : 0.5901829\n",
      "Loss at epoch 51 : 0.5901778\n",
      "Loss at epoch 52 : 0.5901721\n",
      "Loss at epoch 53 : 0.59016705\n",
      "Loss at epoch 54 : 0.5901607\n",
      "Loss at epoch 55 : 0.59015554\n",
      "Loss at epoch 56 : 0.59015\n",
      "Loss at epoch 57 : 0.5901442\n",
      "Loss at epoch 58 : 0.59013873\n",
      "Loss at epoch 59 : 0.590133\n",
      "Loss at epoch 60 : 0.5901279\n",
      "Loss at epoch 61 : 0.59012157\n",
      "Loss at epoch 62 : 0.5901164\n",
      "Loss at epoch 63 : 0.5901112\n",
      "Loss at epoch 64 : 0.59010553\n",
      "Loss at epoch 65 : 0.5901001\n",
      "Loss at epoch 66 : 0.5900944\n",
      "Loss at epoch 67 : 0.59008867\n",
      "Loss at epoch 68 : 0.5900828\n",
      "Loss at epoch 69 : 0.59007764\n",
      "Loss at epoch 70 : 0.59007275\n",
      "Loss at epoch 71 : 0.5900661\n",
      "Loss at epoch 72 : 0.59006107\n",
      "Loss at epoch 73 : 0.5900555\n",
      "Loss at epoch 74 : 0.5900502\n",
      "Loss at epoch 75 : 0.59004384\n",
      "Loss at epoch 76 : 0.5900385\n",
      "Loss at epoch 77 : 0.590033\n",
      "Loss at epoch 78 : 0.5900277\n",
      "Loss at epoch 79 : 0.5900216\n",
      "Loss at epoch 80 : 0.5900164\n",
      "Loss at epoch 81 : 0.5900111\n",
      "Loss at epoch 82 : 0.59000534\n",
      "Loss at epoch 83 : 0.58999974\n",
      "Loss at epoch 84 : 0.5899937\n",
      "Loss at epoch 85 : 0.5899874\n",
      "Loss at epoch 86 : 0.5899818\n",
      "Loss at epoch 87 : 0.5899772\n",
      "Loss at epoch 88 : 0.58997095\n",
      "Loss at epoch 89 : 0.5899654\n",
      "Loss at epoch 90 : 0.5899601\n",
      "Loss at epoch 91 : 0.58995515\n",
      "Loss at epoch 92 : 0.5899488\n",
      "Loss at epoch 93 : 0.5899437\n",
      "Loss at epoch 94 : 0.5899385\n",
      "Loss at epoch 95 : 0.58993226\n",
      "Loss at epoch 96 : 0.5899273\n",
      "Loss at epoch 97 : 0.5899212\n",
      "Loss at epoch 98 : 0.5899158\n",
      "Loss at epoch 99 : 0.5899099\n",
      "Loss at epoch 100 : 0.58990455\n",
      "Loss at epoch 101 : 0.58989894\n",
      "Loss at epoch 102 : 0.5898934\n",
      "Loss at epoch 103 : 0.5898877\n",
      "Loss at epoch 104 : 0.58988166\n",
      "Loss at epoch 105 : 0.5898764\n",
      "Loss at epoch 106 : 0.58987075\n",
      "Loss at epoch 107 : 0.58986574\n",
      "Loss at epoch 108 : 0.5898599\n",
      "Loss at epoch 109 : 0.58985436\n",
      "Loss at epoch 110 : 0.58984935\n",
      "Loss at epoch 111 : 0.5898432\n",
      "Loss at epoch 112 : 0.5898371\n",
      "Loss at epoch 113 : 0.589832\n",
      "Loss at epoch 114 : 0.58982617\n",
      "Loss at epoch 115 : 0.58982056\n",
      "Loss at epoch 116 : 0.58981514\n",
      "Loss at epoch 117 : 0.58981\n",
      "Loss at epoch 118 : 0.58980393\n",
      "Loss at epoch 119 : 0.5897983\n",
      "Loss at epoch 120 : 0.58979285\n",
      "Loss at epoch 121 : 0.58978707\n",
      "Loss at epoch 122 : 0.5897817\n",
      "Loss at epoch 123 : 0.5897762\n",
      "Loss at epoch 124 : 0.5897711\n",
      "Loss at epoch 125 : 0.58976513\n",
      "Loss at epoch 126 : 0.58975947\n",
      "Loss at epoch 127 : 0.5897532\n",
      "Loss at epoch 128 : 0.58974844\n",
      "Loss at epoch 129 : 0.58974314\n",
      "Loss at epoch 130 : 0.58973753\n",
      "Loss at epoch 131 : 0.5897318\n",
      "Loss at epoch 132 : 0.589726\n",
      "Loss at epoch 133 : 0.5897202\n",
      "Loss at epoch 134 : 0.5897153\n",
      "Loss at epoch 135 : 0.5897093\n",
      "Loss at epoch 136 : 0.58970404\n",
      "Loss at epoch 137 : 0.5896987\n",
      "Loss at epoch 138 : 0.58969307\n",
      "Loss at epoch 139 : 0.5896873\n",
      "Loss at epoch 140 : 0.5896815\n",
      "Loss at epoch 141 : 0.58967644\n",
      "Loss at epoch 142 : 0.5896711\n",
      "Loss at epoch 143 : 0.58966607\n",
      "Loss at epoch 144 : 0.5896605\n",
      "Loss at epoch 145 : 0.58965504\n",
      "Loss at epoch 146 : 0.5896494\n",
      "Loss at epoch 147 : 0.58964366\n",
      "Loss at epoch 148 : 0.589638\n",
      "Loss at epoch 149 : 0.5896327\n",
      "Loss at epoch 150 : 0.5896267\n",
      "Loss at epoch 151 : 0.5896226\n",
      "Loss at epoch 152 : 0.5896159\n",
      "Loss at epoch 153 : 0.5896108\n",
      "Loss at epoch 154 : 0.589605\n",
      "Loss at epoch 155 : 0.5896\n",
      "Loss at epoch 156 : 0.5895945\n",
      "Loss at epoch 157 : 0.58958954\n",
      "Loss at epoch 158 : 0.5895841\n",
      "Loss at epoch 159 : 0.5895782\n",
      "Loss at epoch 160 : 0.58957255\n",
      "Loss at epoch 161 : 0.58956707\n",
      "Loss at epoch 162 : 0.5895618\n",
      "Loss at epoch 163 : 0.5895567\n",
      "Loss at epoch 164 : 0.58955145\n",
      "Loss at epoch 165 : 0.58954537\n",
      "Loss at epoch 166 : 0.5895403\n",
      "Loss at epoch 167 : 0.5895347\n",
      "Loss at epoch 168 : 0.58952963\n",
      "Loss at epoch 169 : 0.58952445\n",
      "Loss at epoch 170 : 0.58951885\n",
      "Loss at epoch 171 : 0.5895132\n",
      "Loss at epoch 172 : 0.5895068\n",
      "Loss at epoch 173 : 0.5895026\n",
      "Loss at epoch 174 : 0.5894973\n",
      "Loss at epoch 175 : 0.589492\n",
      "Loss at epoch 176 : 0.58948714\n",
      "Loss at epoch 177 : 0.5894813\n",
      "Loss at epoch 178 : 0.5894761\n",
      "Loss at epoch 179 : 0.58947074\n",
      "Loss at epoch 180 : 0.58946574\n",
      "Loss at epoch 181 : 0.58945996\n",
      "Loss at epoch 182 : 0.58945507\n",
      "Loss at epoch 183 : 0.58945006\n",
      "Loss at epoch 184 : 0.58944434\n",
      "Loss at epoch 185 : 0.58943886\n",
      "Loss at epoch 186 : 0.58943325\n",
      "Loss at epoch 187 : 0.58942777\n",
      "Loss at epoch 188 : 0.58942294\n",
      "Loss at epoch 189 : 0.58941793\n",
      "Loss at epoch 190 : 0.5894119\n",
      "Loss at epoch 191 : 0.589407\n",
      "Loss at epoch 192 : 0.58940184\n",
      "Loss at epoch 193 : 0.58939725\n",
      "Loss at epoch 194 : 0.5893915\n",
      "Loss at epoch 195 : 0.58938646\n",
      "Loss at epoch 196 : 0.5893811\n",
      "Loss at epoch 197 : 0.5893756\n",
      "Loss at epoch 198 : 0.5893706\n",
      "Loss at epoch 199 : 0.58936507\n"
     ]
    }
   ],
   "source": [
    "net.model_train_fb(200)\n",
    "save_path = '/content/drive/My Drive/bmin521/model_params.mat'\n",
    "net.save_parameters(save_path)"
   ]
  },
  {
   "cell_type": "code",
   "execution_count": null,
   "metadata": {
    "id": "0T_NiJCWXYC5"
   },
   "outputs": [],
   "source": [
    "net.optimizer = torch.optim.Adam(net.parameters(), lr=0.0001) "
   ]
  },
  {
   "cell_type": "code",
   "execution_count": 16,
   "metadata": {
    "executionInfo": {
     "elapsed": 537,
     "status": "ok",
     "timestamp": 1607578035299,
     "user": {
      "displayName": "Kaushik Shankar",
      "photoUrl": "https://lh3.googleusercontent.com/a-/AOh14Gi_LoBpSUHecZtU36FAsI8IeWQWykgWZrozxcm1Tg=s64",
      "userId": "05488092884112595586"
     },
     "user_tz": 300
    },
    "id": "5Ctjmov8Cgsv"
   },
   "outputs": [],
   "source": [
    "load_path = '/content/drive/My Drive/bmin521/model_params.mat'\n",
    "net.load_parameters(load_path)"
   ]
  },
  {
   "cell_type": "code",
   "execution_count": null,
   "metadata": {
    "colab": {
     "base_uri": "https://localhost:8080/",
     "height": 266
    },
    "executionInfo": {
     "elapsed": 741,
     "status": "ok",
     "timestamp": 1607504925547,
     "user": {
      "displayName": "Kaushik Shankar",
      "photoUrl": "https://lh3.googleusercontent.com/a-/AOh14Gi_LoBpSUHecZtU36FAsI8IeWQWykgWZrozxcm1Tg=s64",
      "userId": "05488092884112595586"
     },
     "user_tz": 300
    },
    "id": "EVE7JLujg-di",
    "outputId": "b87da3f0-c7cb-4a0d-fad4-ede8c2069aeb"
   },
   "outputs": [
    {
     "data": {
      "image/png": "[encoded data removed]",
      "text/plain": [
       "<Figure size 432x288 with 1 Axes>"
      ]
     },
     "metadata": {
      "needs_background": "light",
      "tags": []
     },
     "output_type": "display_data"
    }
   ],
   "source": [
    "plt.plot(net.training_loss)\n",
    "plt.show()"
   ]
  },
  {
   "cell_type": "code",
   "execution_count": 17,
   "metadata": {
    "executionInfo": {
     "elapsed": 124135,
     "status": "ok",
     "timestamp": 1607578166399,
     "user": {
      "displayName": "Kaushik Shankar",
      "photoUrl": "https://lh3.googleusercontent.com/a-/AOh14Gi_LoBpSUHecZtU36FAsI8IeWQWykgWZrozxcm1Tg=s64",
      "userId": "05488092884112595586"
     },
     "user_tz": 300
    },
    "id": "Su9CcHNcg-di"
   },
   "outputs": [],
   "source": [
    "yclass_true, yreg_true, yclass_pred, yreg_pred, yclass_probs= net.model_test_d1d2()"
   ]
  },
  {
   "cell_type": "code",
   "execution_count": 18,
   "metadata": {
    "colab": {
     "base_uri": "https://localhost:8080/"
    },
    "executionInfo": {
     "elapsed": 560,
     "status": "ok",
     "timestamp": 1607578166970,
     "user": {
      "displayName": "Kaushik Shankar",
      "photoUrl": "https://lh3.googleusercontent.com/a-/AOh14Gi_LoBpSUHecZtU36FAsI8IeWQWykgWZrozxcm1Tg=s64",
      "userId": "05488092884112595586"
     },
     "user_tz": 300
    },
    "id": "j36jq31Rg-di",
    "outputId": "4dbee78d-f0d5-465e-f6ce-73b30a6c6e37"
   },
   "outputs": [
    {
     "name": "stdout",
     "output_type": "stream",
     "text": [
      "0.8666219839142091\n"
     ]
    }
   ],
   "source": [
    "count = 0\n",
    "for i in range(len(yclass_true)):\n",
    "    if int(yclass_true[i]) == int(yclass_pred[i]):\n",
    "        count = count + 1\n",
    "print(float(count)/len(yclass_true))"
   ]
  },
  {
   "cell_type": "code",
   "execution_count": 19,
   "metadata": {
    "colab": {
     "base_uri": "https://localhost:8080/"
    },
    "executionInfo": {
     "elapsed": 1189,
     "status": "ok",
     "timestamp": 1607578167613,
     "user": {
      "displayName": "Kaushik Shankar",
      "photoUrl": "https://lh3.googleusercontent.com/a-/AOh14Gi_LoBpSUHecZtU36FAsI8IeWQWykgWZrozxcm1Tg=s64",
      "userId": "05488092884112595586"
     },
     "user_tz": 300
    },
    "id": "u1RNsg6Xg-di",
    "outputId": "c6f1e85c-b3ba-4ab0-ed3f-26a977049e9b"
   },
   "outputs": [
    {
     "name": "stdout",
     "output_type": "stream",
     "text": [
      "0.8267024192897785\n"
     ]
    }
   ],
   "source": [
    "from sklearn.metrics import balanced_accuracy_score\n",
    "print(balanced_accuracy_score(yclass_true, yclass_pred))"
   ]
  },
  {
   "cell_type": "code",
   "execution_count": 20,
   "metadata": {
    "colab": {
     "base_uri": "https://localhost:8080/"
    },
    "executionInfo": {
     "elapsed": 1177,
     "status": "ok",
     "timestamp": 1607578167615,
     "user": {
      "displayName": "Kaushik Shankar",
      "photoUrl": "https://lh3.googleusercontent.com/a-/AOh14Gi_LoBpSUHecZtU36FAsI8IeWQWykgWZrozxcm1Tg=s64",
      "userId": "05488092884112595586"
     },
     "user_tz": 300
    },
    "id": "XbJLO2Uqj8Dv",
    "outputId": "07580035-0f31-49da-909e-73dd75e8c6b0"
   },
   "outputs": [
    {
     "name": "stdout",
     "output_type": "stream",
     "text": [
      "0.0012511045086074756\n"
     ]
    }
   ],
   "source": [
    "from sklearn.metrics import mean_absolute_error\n",
    "print(mean_absolute_error(yreg_true, yreg_pred))"
   ]
  },
  {
   "cell_type": "code",
   "execution_count": 21,
   "metadata": {
    "colab": {
     "base_uri": "https://localhost:8080/"
    },
    "executionInfo": {
     "elapsed": 1168,
     "status": "ok",
     "timestamp": 1607578167617,
     "user": {
      "displayName": "Kaushik Shankar",
      "photoUrl": "https://lh3.googleusercontent.com/a-/AOh14Gi_LoBpSUHecZtU36FAsI8IeWQWykgWZrozxcm1Tg=s64",
      "userId": "05488092884112595586"
     },
     "user_tz": 300
    },
    "id": "mTDCaVFPjxHc",
    "outputId": "2ef7bb69-12a6-4abb-aefb-4a257a7472e4"
   },
   "outputs": [
    {
     "name": "stdout",
     "output_type": "stream",
     "text": [
      "0.9341564643881234\n"
     ]
    }
   ],
   "source": [
    "from sklearn.metrics import roc_auc_score\n",
    "print(roc_auc_score(yclass_true, yclass_probs, multi_class='ovr'))"
   ]
  },
  {
   "cell_type": "code",
   "execution_count": 22,
   "metadata": {
    "colab": {
     "base_uri": "https://localhost:8080/",
     "height": 297
    },
    "executionInfo": {
     "elapsed": 573,
     "status": "ok",
     "timestamp": 1607578182598,
     "user": {
      "displayName": "Kaushik Shankar",
      "photoUrl": "https://lh3.googleusercontent.com/a-/AOh14Gi_LoBpSUHecZtU36FAsI8IeWQWykgWZrozxcm1Tg=s64",
      "userId": "05488092884112595586"
     },
     "user_tz": 300
    },
    "id": "vesDiplcC78o",
    "outputId": "6652bdd8-e50a-442f-da56-e099b0136599"
   },
   "outputs": [
    {
     "data": {
      "text/html": [
       "<div>\n",
       "<style scoped>\n",
       "    .dataframe tbody tr th:only-of-type {\n",
       "        vertical-align: middle;\n",
       "    }\n",
       "\n",
       "    .dataframe tbody tr th {\n",
       "        vertical-align: top;\n",
       "    }\n",
       "\n",
       "    .dataframe thead th {\n",
       "        text-align: right;\n",
       "    }\n",
       "</style>\n",
       "<table border=\"1\" class=\"dataframe\">\n",
       "  <thead>\n",
       "    <tr style=\"text-align: right;\">\n",
       "      <th></th>\n",
       "      <th>RID</th>\n",
       "      <th>Ventricles</th>\n",
       "      <th>Diagnosis</th>\n",
       "    </tr>\n",
       "  </thead>\n",
       "  <tbody>\n",
       "    <tr>\n",
       "      <th>count</th>\n",
       "      <td>234.000000</td>\n",
       "      <td>150.000000</td>\n",
       "      <td>210.000000</td>\n",
       "    </tr>\n",
       "    <tr>\n",
       "      <th>mean</th>\n",
       "      <td>3373.170940</td>\n",
       "      <td>0.029805</td>\n",
       "      <td>0.742857</td>\n",
       "    </tr>\n",
       "    <tr>\n",
       "      <th>std</th>\n",
       "      <td>1747.349619</td>\n",
       "      <td>0.013205</td>\n",
       "      <td>0.705801</td>\n",
       "    </tr>\n",
       "    <tr>\n",
       "      <th>min</th>\n",
       "      <td>21.000000</td>\n",
       "      <td>0.006354</td>\n",
       "      <td>0.000000</td>\n",
       "    </tr>\n",
       "    <tr>\n",
       "      <th>25%</th>\n",
       "      <td>2124.750000</td>\n",
       "      <td>0.019420</td>\n",
       "      <td>0.000000</td>\n",
       "    </tr>\n",
       "    <tr>\n",
       "      <th>50%</th>\n",
       "      <td>4231.500000</td>\n",
       "      <td>0.028260</td>\n",
       "      <td>1.000000</td>\n",
       "    </tr>\n",
       "    <tr>\n",
       "      <th>75%</th>\n",
       "      <td>4737.250000</td>\n",
       "      <td>0.034968</td>\n",
       "      <td>1.000000</td>\n",
       "    </tr>\n",
       "    <tr>\n",
       "      <th>max</th>\n",
       "      <td>5296.000000</td>\n",
       "      <td>0.065312</td>\n",
       "      <td>2.000000</td>\n",
       "    </tr>\n",
       "  </tbody>\n",
       "</table>\n",
       "</div>"
      ],
      "text/plain": [
       "               RID  Ventricles   Diagnosis\n",
       "count   234.000000  150.000000  210.000000\n",
       "mean   3373.170940    0.029805    0.742857\n",
       "std    1747.349619    0.013205    0.705801\n",
       "min      21.000000    0.006354    0.000000\n",
       "25%    2124.750000    0.019420    0.000000\n",
       "50%    4231.500000    0.028260    1.000000\n",
       "75%    4737.250000    0.034968    1.000000\n",
       "max    5296.000000    0.065312    2.000000"
      ]
     },
     "execution_count": 22,
     "metadata": {
      "tags": []
     },
     "output_type": "execute_result"
    }
   ],
   "source": [
    "# Longitudinal prediction set: Data set D4\n",
    "def str2date_d4(string):\n",
    "    #Convert str to datetime object \"\"\"\n",
    "    return datetime.strptime(string, '%Y-%m-%d')\n",
    "\n",
    "# If there are features with non-numeric values, convert them to numerical values\n",
    "CONVERTERS_D4 = {\n",
    "    'CognitiveAssessmentDate': str2date_d4,\n",
    "    'ScanDate': str2date_d4,\n",
    "    'Forecast Date': str2date_d4,\n",
    "    'EXAMDATE': str2date_d4,\n",
    "    'Diagnosis': Diagnosis_conv,\n",
    "    'DX': DX_conv,\n",
    "    'DX_bl' : Diagnosis_conv\n",
    "}\n",
    "\n",
    "csv_path = '/content/drive/My Drive/bmin521/TADPOLE_D4_corr.csv'\n",
    "d4 = pd.read_csv(csv_path, converters=CONVERTERS_D4)\n",
    "feat_d4 = ['RID','CognitiveAssessmentDate','Ventricles','Diagnosis']\n",
    "d4 = d4[feat_d4]\n",
    "d4.describe()"
   ]
  },
  {
   "cell_type": "code",
   "execution_count": 23,
   "metadata": {
    "executionInfo": {
     "elapsed": 6468,
     "status": "ok",
     "timestamp": 1607578193585,
     "user": {
      "displayName": "Kaushik Shankar",
      "photoUrl": "https://lh3.googleusercontent.com/a-/AOh14Gi_LoBpSUHecZtU36FAsI8IeWQWykgWZrozxcm1Tg=s64",
      "userId": "05488092884112595586"
     },
     "user_tz": 300
    },
    "id": "jU6ZQgAlNt4j"
   },
   "outputs": [],
   "source": [
    "yclass_true, yreg_true, yclass_pred, yreg_pred, yclass_probs = net.model_test_d4(d4, data_)"
   ]
  },
  {
   "cell_type": "code",
   "execution_count": 24,
   "metadata": {
    "colab": {
     "base_uri": "https://localhost:8080/"
    },
    "executionInfo": {
     "elapsed": 537,
     "status": "ok",
     "timestamp": 1607578194130,
     "user": {
      "displayName": "Kaushik Shankar",
      "photoUrl": "https://lh3.googleusercontent.com/a-/AOh14Gi_LoBpSUHecZtU36FAsI8IeWQWykgWZrozxcm1Tg=s64",
      "userId": "05488092884112595586"
     },
     "user_tz": 300
    },
    "id": "UjlSaYIfY6uI",
    "outputId": "e1f6d2e2-f452-402c-ceb0-ecf9536e1f8c"
   },
   "outputs": [
    {
     "name": "stdout",
     "output_type": "stream",
     "text": [
      "0.7619047619047619\n"
     ]
    }
   ],
   "source": [
    "count = 0\n",
    "for i in range(len(yclass_true)):\n",
    "    if int(yclass_true[i]) == int(yclass_pred[i]):\n",
    "        count = count + 1\n",
    "print(float(count)/len(yclass_true))"
   ]
  },
  {
   "cell_type": "code",
   "execution_count": 25,
   "metadata": {
    "colab": {
     "base_uri": "https://localhost:8080/"
    },
    "executionInfo": {
     "elapsed": 360,
     "status": "ok",
     "timestamp": 1607578195738,
     "user": {
      "displayName": "Kaushik Shankar",
      "photoUrl": "https://lh3.googleusercontent.com/a-/AOh14Gi_LoBpSUHecZtU36FAsI8IeWQWykgWZrozxcm1Tg=s64",
      "userId": "05488092884112595586"
     },
     "user_tz": 300
    },
    "id": "o_3Pmm8KY9Zd",
    "outputId": "b280f0bf-6062-4b6d-852a-11aa4b74156f"
   },
   "outputs": [
    {
     "name": "stdout",
     "output_type": "stream",
     "text": [
      "0.7061004381530166\n"
     ]
    }
   ],
   "source": [
    "from sklearn.metrics import balanced_accuracy_score\n",
    "print(balanced_accuracy_score(yclass_true, yclass_pred))"
   ]
  },
  {
   "cell_type": "code",
   "execution_count": 26,
   "metadata": {
    "colab": {
     "base_uri": "https://localhost:8080/"
    },
    "executionInfo": {
     "elapsed": 368,
     "status": "ok",
     "timestamp": 1607578197774,
     "user": {
      "displayName": "Kaushik Shankar",
      "photoUrl": "https://lh3.googleusercontent.com/a-/AOh14Gi_LoBpSUHecZtU36FAsI8IeWQWykgWZrozxcm1Tg=s64",
      "userId": "05488092884112595586"
     },
     "user_tz": 300
    },
    "id": "7NP4oJUHri3s",
    "outputId": "df1dce91-d8e3-4280-ea90-30555cdec4f4"
   },
   "outputs": [
    {
     "name": "stdout",
     "output_type": "stream",
     "text": [
      "0.7876960577198111\n"
     ]
    }
   ],
   "source": [
    "from sklearn.metrics import roc_auc_score\n",
    "print(roc_auc_score(yclass_true, yclass_probs, multi_class='ovr'))"
   ]
  },
  {
   "cell_type": "code",
   "execution_count": 27,
   "metadata": {
    "colab": {
     "base_uri": "https://localhost:8080/"
    },
    "executionInfo": {
     "elapsed": 333,
     "status": "ok",
     "timestamp": 1607578199959,
     "user": {
      "displayName": "Kaushik Shankar",
      "photoUrl": "https://lh3.googleusercontent.com/a-/AOh14Gi_LoBpSUHecZtU36FAsI8IeWQWykgWZrozxcm1Tg=s64",
      "userId": "05488092884112595586"
     },
     "user_tz": 300
    },
    "id": "Z5yfdntvCsfz",
    "outputId": "82288159-1590-4a14-d90c-94d2c3a7fc05"
   },
   "outputs": [
    {
     "name": "stdout",
     "output_type": "stream",
     "text": [
      "0.010474172073489782\n"
     ]
    }
   ],
   "source": [
    "from sklearn.metrics import mean_absolute_error\n",
    "print(mean_absolute_error(yreg_true, yreg_pred))"
   ]
  }
 ],
 "metadata": {
  "colab": {
   "collapsed_sections": [],
   "name": "project.ipynb",
   "provenance": []
  },
  "kernelspec": {
   "display_name": "Python 3",
   "language": "python",
   "name": "python3"
  },
  "language_info": {
   "codemirror_mode": {
    "name": "ipython",
    "version": 3
   },
   "file_extension": ".py",
   "mimetype": "text/x-python",
   "name": "python",
   "nbconvert_exporter": "python",
   "pygments_lexer": "ipython3",
   "version": "3.6.9"
  }
 },
 "nbformat": 4,
 "nbformat_minor": 1
}
